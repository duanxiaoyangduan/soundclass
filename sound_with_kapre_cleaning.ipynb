{
 "cells": [
  {
   "cell_type": "code",
   "execution_count": 1,
   "metadata": {},
   "outputs": [],
   "source": [
    "import matplotlib.pyplot as plt\n",
    "from scipy.io import wavfile\n",
    "import argparse\n",
    "import os\n",
    "from glob import glob\n",
    "import numpy as np\n",
    "import pandas as pd\n",
    "from librosa.core import resample, to_mono\n",
    "from tqdm import tqdm"
   ]
  },
  {
   "cell_type": "code",
   "execution_count": 7,
   "metadata": {},
   "outputs": [],
   "source": [
    "def envelope(y, rate, threshold):\n",
    "    mask = []\n",
    "    y = pd.Series(y).apply(np.abs)\n",
    "    y_mean = y.rolling(window=int(rate/20),\n",
    "                       min_periods=1,\n",
    "                       center=True).max()\n",
    "    for mean in y_mean:\n",
    "        if mean > threshold:\n",
    "            mask.append(True)\n",
    "        else:\n",
    "            mask.append(False)\n",
    "    return mask, y_mean\n",
    "\n",
    "def downsample_mono(path, sr):\n",
    "    rate, wav = wavfile.read(path)\n",
    "    wav = wav.astype(np.float32, order='F')\n",
    "    try:\n",
    "        tmp = wav.shape[1]\n",
    "        wav = to_mono(wav.T)\n",
    "    except:\n",
    "        pass\n",
    "    wav = resample(wav, rate, sr)\n",
    "    wav = wav.astype(np.int16)\n",
    "    return sr, wav\n",
    "\n",
    "\n",
    "def save_sample(sample, rate, target_dir, fn):\n",
    "    fn = fn.split('.wav')[0]\n",
    "    dst_path = os.path.join(target_dir.split('.')[0], fn+'.wav')\n",
    "    if os.path.exists(dst_path):\n",
    "        return\n",
    "    wavfile.write(dst_path, rate, sample)\n",
    "\n",
    "\n",
    "def check_dir(path):\n",
    "    if os.path.exists(path) is False:\n",
    "        os.mkdir(path)\n",
    "\n",
    "def split_wavs(args):\n",
    "    src_root = args.src_root\n",
    "    dst_root = args.dst_root\n",
    "    dt = args.delta_time\n",
    "\n",
    "    wav_paths = glob('{}/**'.format(src_root), recursive=True)\n",
    "    wav_paths = [x for x in wav_paths if '.wav' in x]\n",
    "    dirs = os.listdir(src_root)\n",
    "    check_dir(dst_root)\n",
    "    classes = os.listdir(src_root)\n",
    "    for _cls in classes:\n",
    "        target_dir = os.path.join(dst_root, _cls)\n",
    "        check_dir(target_dir)\n",
    "        src_dir = os.path.join(src_root, _cls)\n",
    "        for fn in tqdm(os.listdir(src_dir)):\n",
    "            src_fn = os.path.join(src_dir, fn)\n",
    "            rate, wav = downsample_mono(src_fn, args.sr)\n",
    "            mask, y_mean = envelope(wav, rate, threshold=args.threshold)\n",
    "            wav = wav[mask]\n",
    "\n",
    "            save_sample(wav, rate, target_dir, fn)\n",
    "                    \n",
    "def test_threshold(args):\n",
    "    src_root = args.src_root\n",
    "    wav_paths = glob('{}/**'.format(src_root), recursive=True)\n",
    "    wav_path = [x for x in wav_paths if args.fn in x]\n",
    "    if len(wav_path) != 1:\n",
    "        print('audio file not found for sub-string: {}'.format(args.fn))\n",
    "        return\n",
    "    rate, wav = downsample_mono(wav_path[0], args.sr)\n",
    "    mask, env = envelope(wav, rate, threshold=args.threshold)\n",
    "    plt.style.use('ggplot')\n",
    "    plt.title('Signal Envelope, Threshold = {}'.format(str(args.threshold)))\n",
    "    plt.plot(wav[np.logical_not(mask)], color='r', label='remove')\n",
    "    plt.plot(wav[mask], color='c', label='keep')\n",
    "    plt.plot(env, color='m', label='envelope')\n",
    "    plt.grid(False)\n",
    "    plt.legend(loc='best')\n",
    "    plt.show()"
   ]
  },
  {
   "cell_type": "code",
   "execution_count": 16,
   "metadata": {},
   "outputs": [
    {
     "data": {
      "image/png": "[encoded data removed]",
      "text/plain": [
       "<Figure size 432x288 with 1 Axes>"
      ]
     },
     "metadata": {},
     "output_type": "display_data"
    }
   ],
   "source": [
    "if __name__ == '__main__':\n",
    "    \n",
    "    parser = argparse.ArgumentParser(description='Cleaning audio data')\n",
    "    parser.add_argument('--src_root', type=str, default='data/train',\n",
    "                        help='directory of audio files in total duration')\n",
    "    parser.add_argument('--dst_root', type=str, default='data/new',\n",
    "                        help='directory to put audio files split by delta_time')\n",
    "    parser.add_argument('--delta_time', '-dt', type=float, default=1.0,\n",
    "                        help='time in seconds to sample audio')\n",
    "    parser.add_argument('--sr', type=int, default=16000,\n",
    "                        help='rate to downsample audio')\n",
    "\n",
    "    parser.add_argument('--fn', type=str, default='hungry_82',\n",
    "                        help='file to plot over time to check magnitude')\n",
    "    parser.add_argument('--threshold', type=str, default=100,\n",
    "                        help='threshold magnitude for np.int16 dtype')\n",
    "    args, _ = parser.parse_known_args()\n",
    "\n",
    "    test_threshold(args)\n",
    "    #split_wavs(args)"
   ]
  },
  {
   "cell_type": "code",
   "execution_count": 15,
   "metadata": {},
   "outputs": [
    {
     "name": "stdout",
     "output_type": "stream",
     "text": [
      "7.4145\n"
     ]
    }
   ],
   "source": [
    "rate, wav = wavfile.read(\"data/new/awake/awake_10.wav\")\n",
    "length = len(wav)/rate\n",
    "print(length)"
   ]
  },
  {
   "cell_type": "code",
   "execution_count": 41,
   "metadata": {},
   "outputs": [
    {
     "name": "stdout",
     "output_type": "stream",
     "text": [
      "113068\n",
      "113068\n",
      "[ 151  -74 -193 ...  -74   34   80]\n"
     ]
    }
   ],
   "source": [
    "rate, t = wavfile.read(\"data/new/diaper/diaper_21.wav\")\n",
    "print(t.shape[0])\n",
    "print(len(t))\n",
    "print(t[5928 : 5928+16000])"
   ]
  }
 ],
 "metadata": {
  "kernelspec": {
   "display_name": "tensorflow3",
   "language": "python",
   "name": "tensorflow3"
  },
  "language_info": {
   "codemirror_mode": {
    "name": "ipython",
    "version": 3
   },
   "file_extension": ".py",
   "mimetype": "text/x-python",
   "name": "python",
   "nbconvert_exporter": "python",
   "pygments_lexer": "ipython3",
   "version": "3.6.9"
  }
 },
 "nbformat": 4,
 "nbformat_minor": 2
}
