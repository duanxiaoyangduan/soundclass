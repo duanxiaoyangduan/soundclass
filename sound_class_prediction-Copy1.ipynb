{
 "cells": [
  {
   "cell_type": "code",
   "execution_count": 1,
   "metadata": {},
   "outputs": [
    {
     "name": "stdout",
     "output_type": "stream",
     "text": [
      "2.2.0\n"
     ]
    }
   ],
   "source": [
    "import os\n",
    "import re\n",
    "from tqdm import tqdm\n",
    "import random\n",
    "from scipy.io import wavfile\n",
    "import librosa\n",
    "import tensorflow as tf\n",
    "from tensorflow import keras\n",
    "from tensorflow.keras.layers import Conv2D, MaxPool2D, Flatten \n",
    "from tensorflow.keras.layers import Dropout, Dense, BatchNormalization\n",
    "\n",
    "import pandas as pd\n",
    "import numpy as np\n",
    "import matplotlib.pyplot as plt\n",
    "import python_speech_features as psf\n",
    "print(tf.__version__)"
   ]
  },
  {
   "cell_type": "code",
   "execution_count": null,
   "metadata": {},
   "outputs": [],
   "source": []
  },
  {
   "cell_type": "code",
   "execution_count": 14,
   "metadata": {},
   "outputs": [],
   "source": [
    "def envelope(y, rate, threshold):\n",
    "    mask = []\n",
    "    y = pd.Series(y).apply(np.abs)\n",
    "    y_mean = y.rolling(window = int(rate/10), min_periods = 1, center = True).mean()\n",
    "    for mean in y_mean:\n",
    "        if mean > threshold:\n",
    "            mask.append(True)\n",
    "        else:\n",
    "            mask.append(False)\n",
    "    return mask\n",
    "\n",
    "def read_data(path):\n",
    "\n",
    "    signal, rate = librosa.load(path, sr=16000)\n",
    "    mask = envelope(signal, rate, 0.005)#envelope to filter out silence\n",
    "    signal_masked = signal[mask]\n",
    "    length =len(signal_masked)/rate\n",
    "    \n",
    "    return path, signal_masked,length\n",
    "\n",
    "\n",
    "def build_feat_list(f):\n",
    "    X = []\n",
    "    _min, _max = float('inf'), -float('inf')\n",
    "    step = 2\n",
    "    signal = df.at[f,'data']\n",
    "    rate = 16000\n",
    "    step_rate = rate*step\n",
    "    \n",
    "    if step < df.at[f, 'length']:\n",
    "        \n",
    "        #rand_index = np.random.randint(0, signal.shape[0]-step_rate)\n",
    "        #sample = signal[rand_index : rand_index+step_rate]\n",
    "        \n",
    "        #X_sample = librosa.feature.mfcc(y =sample, sr = rate, n_mfcc=26)\n",
    "        #_min = min(np.amin(X_sample), _min)\n",
    "        #_max = max(np.amax(X_sample), _max)\n",
    "        #X.append(X_sample)\n",
    "        for i in range(int(df.at[f, 'length']/step)):\n",
    "            sample = signal[ i*rate*step : int((i+1)*step*rate)]\n",
    "            sample = np.array(sample)\n",
    "            #convert data\n",
    "            X_sample = librosa.feature.mfcc(y =sample, sr = rate, n_mfcc=26)\n",
    "            #X_sample = psf.mfcc(sample, rate, numcep = 64, nfilt=128, nfft=1103).T\n",
    "            #print(sample)\n",
    "            _min = min(np.amin(X_sample), _min)\n",
    "            _max = max(np.amax(X_sample), _max)\n",
    "            X.append(X_sample)\n",
    "    else:\n",
    "        sample = np.pad(signal,(0,step_rate - len(signal)), 'constant', constant_values=0)\n",
    "        X_sample = librosa.feature.mfcc(y =sample, sr = rate, n_mfcc=26)\n",
    "        _min = min(np.amin(X_sample), _min)\n",
    "        _max = max(np.amax(X_sample), _max)\n",
    "        X.append(X_sample)\n",
    "        \n",
    "    X = np.array(X)\n",
    "    X = (X - _min)/(_max - _min)\n",
    "    X = X.reshape(X.shape[0], X.shape[1], X.shape[2], 1)\n",
    "\n",
    "    return X \n",
    "\n",
    "def predict(X):\n",
    "    score = np.sum(loaded_model.predict(X), axis=0)\n",
    "    label = np.argmax(score)\n",
    "    \n",
    "    return label\n",
    "\n"
   ]
  },
  {
   "cell_type": "code",
   "execution_count": 17,
   "metadata": {},
   "outputs": [
    {
     "name": "stderr",
     "output_type": "stream",
     "text": [
      "100%|██████████| 228/228 [00:28<00:00,  7.87it/s]\n"
     ]
    },
    {
     "data": {
      "text/html": [
       "<div>\n",
       "<style scoped>\n",
       "    .dataframe tbody tr th:only-of-type {\n",
       "        vertical-align: middle;\n",
       "    }\n",
       "\n",
       "    .dataframe tbody tr th {\n",
       "        vertical-align: top;\n",
       "    }\n",
       "\n",
       "    .dataframe thead th {\n",
       "        text-align: right;\n",
       "    }\n",
       "</style>\n",
       "<table border=\"1\" class=\"dataframe\">\n",
       "  <thead>\n",
       "    <tr style=\"text-align: right;\">\n",
       "      <th></th>\n",
       "      <th>id</th>\n",
       "      <th>data</th>\n",
       "      <th>length</th>\n",
       "    </tr>\n",
       "  </thead>\n",
       "  <tbody>\n",
       "    <tr>\n",
       "      <th>0</th>\n",
       "      <td>test_128.wav</td>\n",
       "      <td>[-0.010009766, -0.0073547363, -0.0014038086, 0...</td>\n",
       "      <td>13.542438</td>\n",
       "    </tr>\n",
       "    <tr>\n",
       "      <th>1</th>\n",
       "      <td>test_97.wav</td>\n",
       "      <td>[0.003479004, 0.0009460449, 0.0027160645, -0.0...</td>\n",
       "      <td>8.718500</td>\n",
       "    </tr>\n",
       "    <tr>\n",
       "      <th>2</th>\n",
       "      <td>test_125.wav</td>\n",
       "      <td>[0.0, 0.0, -0.00024414062, 0.0017089844, -0.00...</td>\n",
       "      <td>14.523438</td>\n",
       "    </tr>\n",
       "    <tr>\n",
       "      <th>3</th>\n",
       "      <td>test_84.wav</td>\n",
       "      <td>[-0.0032043457, -0.00390625, -0.0062561035, -0...</td>\n",
       "      <td>17.114062</td>\n",
       "    </tr>\n",
       "    <tr>\n",
       "      <th>4</th>\n",
       "      <td>test_204.wav</td>\n",
       "      <td>[-0.03652954, 0.04626465, -0.023620605, -0.104...</td>\n",
       "      <td>12.305938</td>\n",
       "    </tr>\n",
       "    <tr>\n",
       "      <th>...</th>\n",
       "      <td>...</td>\n",
       "      <td>...</td>\n",
       "      <td>...</td>\n",
       "    </tr>\n",
       "    <tr>\n",
       "      <th>223</th>\n",
       "      <td>test_220.wav</td>\n",
       "      <td>[-0.011871338, -0.011260986, -0.009155273, -0....</td>\n",
       "      <td>15.594750</td>\n",
       "    </tr>\n",
       "    <tr>\n",
       "      <th>224</th>\n",
       "      <td>test_186.wav</td>\n",
       "      <td>[-0.13266818, -0.34102347, -0.07698086, 0.1503...</td>\n",
       "      <td>15.894875</td>\n",
       "    </tr>\n",
       "    <tr>\n",
       "      <th>225</th>\n",
       "      <td>test_200.wav</td>\n",
       "      <td>[-0.0072021484, -0.003967285, -0.0014038086, -...</td>\n",
       "      <td>10.853687</td>\n",
       "    </tr>\n",
       "    <tr>\n",
       "      <th>226</th>\n",
       "      <td>test_199.wav</td>\n",
       "      <td>[0.002166748, 0.00033569336, 0.001739502, -0.0...</td>\n",
       "      <td>3.028938</td>\n",
       "    </tr>\n",
       "    <tr>\n",
       "      <th>227</th>\n",
       "      <td>test_39.wav</td>\n",
       "      <td>[-0.09048462, -0.10733032, -0.1260376, -0.1430...</td>\n",
       "      <td>14.170750</td>\n",
       "    </tr>\n",
       "  </tbody>\n",
       "</table>\n",
       "<p>228 rows × 3 columns</p>\n",
       "</div>"
      ],
      "text/plain": [
       "               id                                               data  \\\n",
       "0    test_128.wav  [-0.010009766, -0.0073547363, -0.0014038086, 0...   \n",
       "1     test_97.wav  [0.003479004, 0.0009460449, 0.0027160645, -0.0...   \n",
       "2    test_125.wav  [0.0, 0.0, -0.00024414062, 0.0017089844, -0.00...   \n",
       "3     test_84.wav  [-0.0032043457, -0.00390625, -0.0062561035, -0...   \n",
       "4    test_204.wav  [-0.03652954, 0.04626465, -0.023620605, -0.104...   \n",
       "..            ...                                                ...   \n",
       "223  test_220.wav  [-0.011871338, -0.011260986, -0.009155273, -0....   \n",
       "224  test_186.wav  [-0.13266818, -0.34102347, -0.07698086, 0.1503...   \n",
       "225  test_200.wav  [-0.0072021484, -0.003967285, -0.0014038086, -...   \n",
       "226  test_199.wav  [0.002166748, 0.00033569336, 0.001739502, -0.0...   \n",
       "227   test_39.wav  [-0.09048462, -0.10733032, -0.1260376, -0.1430...   \n",
       "\n",
       "        length  \n",
       "0    13.542438  \n",
       "1     8.718500  \n",
       "2    14.523438  \n",
       "3    17.114062  \n",
       "4    12.305938  \n",
       "..         ...  \n",
       "223  15.594750  \n",
       "224  15.894875  \n",
       "225  10.853687  \n",
       "226   3.028938  \n",
       "227  14.170750  \n",
       "\n",
       "[228 rows x 3 columns]"
      ]
     },
     "execution_count": 17,
     "metadata": {},
     "output_type": "execute_result"
    }
   ],
   "source": [
    "fname = []\n",
    "data = []\n",
    "length = []\n",
    "\n",
    "for f in tqdm(os.listdir('data/test')):\n",
    "    a, d, l= read_data('data/test'+'/'+f)\n",
    "    fname.append(f)\n",
    "    data.append(d)\n",
    "    length.append(l)\n",
    "dict = {'id': fname, 'data': data, 'length': length}\n",
    "df = pd.DataFrame(dict)\n",
    "df"
   ]
  },
  {
   "cell_type": "code",
   "execution_count": 30,
   "metadata": {},
   "outputs": [
    {
     "name": "stdout",
     "output_type": "stream",
     "text": [
      "2.1705\n"
     ]
    }
   ],
   "source": [
    "print(df.at[15, 'data'].shape[0]/16000)"
   ]
  },
  {
   "cell_type": "code",
   "execution_count": 7,
   "metadata": {},
   "outputs": [
    {
     "name": "stdout",
     "output_type": "stream",
     "text": [
      "(1, 26, 63, 1)\n"
     ]
    }
   ],
   "source": [
    "loaded_model = tf.keras.models.load_model('/tmp/model2')\n",
    "X = build_feat_list(10)\n",
    "print(X.shape)"
   ]
  },
  {
   "cell_type": "code",
   "execution_count": 8,
   "metadata": {},
   "outputs": [
    {
     "name": "stderr",
     "output_type": "stream",
     "text": [
      "  1%|          | 2/228 [00:00<00:12, 18.54it/s]"
     ]
    },
    {
     "name": "stdout",
     "output_type": "stream",
     "text": [
      "model loaded\n"
     ]
    },
    {
     "name": "stderr",
     "output_type": "stream",
     "text": [
      "100%|██████████| 228/228 [00:04<00:00, 48.69it/s]"
     ]
    },
    {
     "name": "stdout",
     "output_type": "stream",
     "text": [
      "[2, 1, 1, 5, 2, 2, 1, 3, 3, 5, 5, 0, 3, 1, 3, 3, 0, 5, 4, 5, 5, 2, 5, 2, 5, 3, 5, 1, 5, 2, 2, 3, 5, 5, 2, 1, 3, 2, 5, 1, 3, 3, 5, 1, 5, 1, 1, 5, 1, 5, 1, 0, 5, 0, 3, 2, 5, 1, 2, 4, 1, 5, 5, 3, 5, 2, 1, 0, 5, 2, 5, 5, 2, 0, 1, 4, 5, 0, 1, 1, 3, 1, 5, 5, 5, 2, 2, 1, 5, 1, 3, 1, 5, 2, 3, 3, 5, 5, 3, 5, 5, 3, 2, 1, 1, 1, 5, 1, 0, 5, 1, 2, 4, 0, 2, 1, 3, 5, 5, 2, 1, 0, 0, 3, 2, 2, 5, 2, 5, 2, 3, 1, 1, 5, 5, 5, 1, 4, 4, 5, 0, 3, 1, 2, 5, 5, 3, 3, 5, 5, 3, 2, 5, 5, 5, 5, 0, 4, 5, 5, 4, 5, 5, 3, 3, 5, 2, 0, 5, 5, 2, 5, 5, 2, 2, 2, 1, 1, 3, 1, 1, 5, 5, 5, 5, 5, 3, 5, 3, 1, 2, 5, 3, 0, 2, 5, 2, 5, 1, 3, 3, 2, 5, 5, 2, 1, 5, 3, 3, 2, 3, 5, 4, 5, 5, 5, 5, 5, 1, 5, 2, 5, 2, 1, 2, 4, 3, 2]\n"
     ]
    },
    {
     "name": "stderr",
     "output_type": "stream",
     "text": [
      "\n"
     ]
    }
   ],
   "source": [
    "\n",
    "\n",
    "#loaded_model = tf.keras.models.load_model('/tmp/model1')\n",
    "label = []\n",
    "print('model loaded')\n",
    "for f in tqdm(df.index):\n",
    "    X = build_feat_list(f)\n",
    "    l = predict(X)\n",
    "    label.append(l) \n",
    "print(label)\n",
    "#df['label']=label\n",
    "\n",
    "#save csv"
   ]
  },
  {
   "cell_type": "code",
   "execution_count": 15,
   "metadata": {},
   "outputs": [
    {
     "name": "stderr",
     "output_type": "stream",
     "text": [
      "  1%|          | 2/228 [00:00<00:16, 13.90it/s]"
     ]
    },
    {
     "name": "stdout",
     "output_type": "stream",
     "text": [
      "model loaded\n"
     ]
    },
    {
     "name": "stderr",
     "output_type": "stream",
     "text": [
      "100%|██████████| 228/228 [00:08<00:00, 27.28it/s]"
     ]
    },
    {
     "name": "stdout",
     "output_type": "stream",
     "text": [
      "[2, 5, 2, 5, 5, 5, 5, 5, 1, 2, 3, 2, 5, 5, 5, 1, 1, 5, 1, 5, 5, 5, 5, 1, 5, 2, 3, 2, 3, 5, 5, 3, 5, 5, 2, 3, 5, 1, 5, 2, 1, 5, 5, 3, 3, 5, 1, 1, 5, 2, 2, 2, 5, 5, 5, 1, 5, 1, 5, 3, 5, 3, 3, 1, 0, 5, 3, 5, 5, 1, 5, 5, 1, 2, 2, 5, 2, 5, 5, 4, 5, 1, 5, 2, 4, 5, 5, 5, 5, 5, 5, 1, 0, 5, 5, 5, 0, 1, 5, 5, 5, 5, 1, 1, 5, 3, 5, 5, 5, 5, 5, 2, 1, 5, 5, 5, 3, 5, 5, 5, 1, 2, 5, 1, 5, 5, 4, 5, 1, 3, 1, 5, 1, 1, 5, 2, 0, 2, 5, 1, 3, 5, 2, 5, 5, 1, 5, 1, 3, 5, 5, 1, 5, 5, 3, 2, 1, 1, 2, 1, 5, 3, 5, 5, 5, 5, 5, 1, 2, 3, 5, 5, 5, 5, 3, 1, 5, 3, 3, 5, 5, 5, 3, 5, 1, 1, 1, 3, 0, 5, 0, 5, 5, 5, 1, 3, 2, 5, 5, 3, 3, 5, 0, 0, 5, 5, 5, 5, 5, 5, 0, 5, 5, 5, 2, 5, 5, 1, 5, 5, 1, 5, 3, 1, 5, 3, 5, 1]\n"
     ]
    },
    {
     "name": "stderr",
     "output_type": "stream",
     "text": [
      "\n"
     ]
    }
   ],
   "source": [
    "label = []\n",
    "print('model loaded')\n",
    "for f in tqdm(df.index):\n",
    "    X = build_feat_list(f)\n",
    "    l = predict(X)\n",
    "    label.append(l) \n",
    "print(label)"
   ]
  },
  {
   "cell_type": "code",
   "execution_count": 18,
   "metadata": {},
   "outputs": [
    {
     "name": "stdout",
     "output_type": "stream",
     "text": [
      "[128, 97, 125, 84, 204, 67, 8, 55, 205, 56, 143, 188, 222, 78, 105, 225, 202, 179, 120, 146, 54, 132, 134, 201, 113, 158, 31, 130, 193, 34, 166, 69, 33, 107, 122, 51, 148, 119, 124, 57, 156, 173, 95, 16, 189, 37, 116, 30, 216, 131, 19, 207, 172, 136, 151, 22, 219, 108, 32, 12, 9, 170, 142, 66, 138, 137, 117, 209, 65, 217, 61, 100, 76, 210, 72, 115, 87, 64, 227, 11, 86, 111, 194, 48, 7, 183, 214, 223, 60, 213, 104, 43, 191, 82, 147, 180, 41, 226, 140, 18, 75, 50, 141, 133, 40, 139, 149, 47, 190, 129, 109, 112, 184, 187, 29, 27, 20, 153, 127, 196, 62, 203, 167, 49, 77, 83, 106, 91, 90, 99, 174, 68, 103, 89, 2, 160, 198, 126, 157, 211, 163, 96, 94, 102, 192, 150, 59, 36, 93, 81, 182, 63, 145, 24, 197, 164, 161, 110, 74, 1, 45, 114, 6, 80, 42, 13, 159, 71, 224, 175, 38, 88, 70, 52, 181, 25, 218, 185, 178, 221, 154, 14, 152, 26, 5, 135, 10, 85, 28, 155, 73, 176, 79, 92, 17, 162, 121, 21, 53, 168, 177, 0, 101, 171, 15, 35, 3, 44, 195, 123, 206, 215, 23, 212, 165, 118, 208, 4, 169, 58, 98, 144, 46, 220, 186, 200, 199, 39]\n"
     ]
    }
   ],
   "source": [
    "n = []\n",
    "for i in df.index:\n",
    "    x = re.split(\"_\", df.at[i,'id'])\n",
    "    number = re.split(\"\\.\", x[1])\n",
    "    n.append(int(number[0]))\n",
    "print(n)"
   ]
  },
  {
   "cell_type": "code",
   "execution_count": 19,
   "metadata": {},
   "outputs": [
    {
     "data": {
      "text/html": [
       "<div>\n",
       "<style scoped>\n",
       "    .dataframe tbody tr th:only-of-type {\n",
       "        vertical-align: middle;\n",
       "    }\n",
       "\n",
       "    .dataframe tbody tr th {\n",
       "        vertical-align: top;\n",
       "    }\n",
       "\n",
       "    .dataframe thead th {\n",
       "        text-align: right;\n",
       "    }\n",
       "</style>\n",
       "<table border=\"1\" class=\"dataframe\">\n",
       "  <thead>\n",
       "    <tr style=\"text-align: right;\">\n",
       "      <th></th>\n",
       "      <th>id</th>\n",
       "      <th>data</th>\n",
       "      <th>length</th>\n",
       "      <th>label</th>\n",
       "      <th>n</th>\n",
       "    </tr>\n",
       "  </thead>\n",
       "  <tbody>\n",
       "    <tr>\n",
       "      <th>201</th>\n",
       "      <td>test_0.wav</td>\n",
       "      <td>[0.03387451, 0.046325684, 0.038879395, 0.03518...</td>\n",
       "      <td>14.355562</td>\n",
       "      <td>uncomfortable</td>\n",
       "      <td>0</td>\n",
       "    </tr>\n",
       "    <tr>\n",
       "      <th>159</th>\n",
       "      <td>test_1.wav</td>\n",
       "      <td>[-0.059391413, -0.04179137, 0.05396723, 0.0777...</td>\n",
       "      <td>14.396812</td>\n",
       "      <td>diaper</td>\n",
       "      <td>1</td>\n",
       "    </tr>\n",
       "    <tr>\n",
       "      <th>134</th>\n",
       "      <td>test_2.wav</td>\n",
       "      <td>[0.062347412, -0.0037841797, 0.081604004, 0.17...</td>\n",
       "      <td>19.649250</td>\n",
       "      <td>uncomfortable</td>\n",
       "      <td>2</td>\n",
       "    </tr>\n",
       "    <tr>\n",
       "      <th>206</th>\n",
       "      <td>test_3.wav</td>\n",
       "      <td>[0.0004272461, 0.0010375977, 0.00012207031, -0...</td>\n",
       "      <td>10.953125</td>\n",
       "      <td>uncomfortable</td>\n",
       "      <td>3</td>\n",
       "    </tr>\n",
       "    <tr>\n",
       "      <th>217</th>\n",
       "      <td>test_4.wav</td>\n",
       "      <td>[0.052825928, -0.023925781, -0.07220459, -0.11...</td>\n",
       "      <td>14.874688</td>\n",
       "      <td>diaper</td>\n",
       "      <td>4</td>\n",
       "    </tr>\n",
       "    <tr>\n",
       "      <th>...</th>\n",
       "      <td>...</td>\n",
       "      <td>...</td>\n",
       "      <td>...</td>\n",
       "      <td>...</td>\n",
       "      <td>...</td>\n",
       "    </tr>\n",
       "    <tr>\n",
       "      <th>87</th>\n",
       "      <td>test_223.wav</td>\n",
       "      <td>[-0.003326416, -0.0034179688, -0.0036315918, -...</td>\n",
       "      <td>5.205188</td>\n",
       "      <td>uncomfortable</td>\n",
       "      <td>223</td>\n",
       "    </tr>\n",
       "    <tr>\n",
       "      <th>168</th>\n",
       "      <td>test_224.wav</td>\n",
       "      <td>[-0.13461304, -0.14828491, -0.1605835, -0.1502...</td>\n",
       "      <td>11.699500</td>\n",
       "      <td>hug</td>\n",
       "      <td>224</td>\n",
       "    </tr>\n",
       "    <tr>\n",
       "      <th>15</th>\n",
       "      <td>test_225.wav</td>\n",
       "      <td>[0.001159668, 0.0010681152, -0.0008239746, -0....</td>\n",
       "      <td>2.170500</td>\n",
       "      <td>diaper</td>\n",
       "      <td>225</td>\n",
       "    </tr>\n",
       "    <tr>\n",
       "      <th>97</th>\n",
       "      <td>test_226.wav</td>\n",
       "      <td>[0.0028076172, 0.002746582, 0.0033569336, 0.00...</td>\n",
       "      <td>14.996688</td>\n",
       "      <td>diaper</td>\n",
       "      <td>226</td>\n",
       "    </tr>\n",
       "    <tr>\n",
       "      <th>78</th>\n",
       "      <td>test_227.wav</td>\n",
       "      <td>[0.04019165, 0.024353027, 0.011566162, 0.00106...</td>\n",
       "      <td>10.330562</td>\n",
       "      <td>uncomfortable</td>\n",
       "      <td>227</td>\n",
       "    </tr>\n",
       "  </tbody>\n",
       "</table>\n",
       "<p>228 rows × 5 columns</p>\n",
       "</div>"
      ],
      "text/plain": [
       "               id                                               data  \\\n",
       "201    test_0.wav  [0.03387451, 0.046325684, 0.038879395, 0.03518...   \n",
       "159    test_1.wav  [-0.059391413, -0.04179137, 0.05396723, 0.0777...   \n",
       "134    test_2.wav  [0.062347412, -0.0037841797, 0.081604004, 0.17...   \n",
       "206    test_3.wav  [0.0004272461, 0.0010375977, 0.00012207031, -0...   \n",
       "217    test_4.wav  [0.052825928, -0.023925781, -0.07220459, -0.11...   \n",
       "..            ...                                                ...   \n",
       "87   test_223.wav  [-0.003326416, -0.0034179688, -0.0036315918, -...   \n",
       "168  test_224.wav  [-0.13461304, -0.14828491, -0.1605835, -0.1502...   \n",
       "15   test_225.wav  [0.001159668, 0.0010681152, -0.0008239746, -0....   \n",
       "97   test_226.wav  [0.0028076172, 0.002746582, 0.0033569336, 0.00...   \n",
       "78   test_227.wav  [0.04019165, 0.024353027, 0.011566162, 0.00106...   \n",
       "\n",
       "        length          label    n  \n",
       "201  14.355562  uncomfortable    0  \n",
       "159  14.396812         diaper    1  \n",
       "134  19.649250  uncomfortable    2  \n",
       "206  10.953125  uncomfortable    3  \n",
       "217  14.874688         diaper    4  \n",
       "..         ...            ...  ...  \n",
       "87    5.205188  uncomfortable  223  \n",
       "168  11.699500            hug  224  \n",
       "15    2.170500         diaper  225  \n",
       "97   14.996688         diaper  226  \n",
       "78   10.330562  uncomfortable  227  \n",
       "\n",
       "[228 rows x 5 columns]"
      ]
     },
     "execution_count": 19,
     "metadata": {},
     "output_type": "execute_result"
    }
   ],
   "source": [
    "classes = ['awake', 'diaper', 'hug', 'hungry', 'sleepy', 'uncomfortable']\n",
    "label_txt = []\n",
    "for i in range(len(label)):\n",
    "    label_txt.append(classes[label[i]])\n",
    "df['label'] = label_txt\n",
    "df['n'] = n\n",
    "df.n = df.n.astype(int)\n",
    "\n",
    "df.sort_values(\"n\", axis = 0, ascending = True, \n",
    "                inplace = True, na_position ='last') \n",
    "\n",
    "df\n",
    "#final = df[['id','label']]\n",
    "#final\n",
    "#final"
   ]
  },
  {
   "cell_type": "code",
   "execution_count": 20,
   "metadata": {},
   "outputs": [
    {
     "data": {
      "text/html": [
       "<div>\n",
       "<style scoped>\n",
       "    .dataframe tbody tr th:only-of-type {\n",
       "        vertical-align: middle;\n",
       "    }\n",
       "\n",
       "    .dataframe tbody tr th {\n",
       "        vertical-align: top;\n",
       "    }\n",
       "\n",
       "    .dataframe thead th {\n",
       "        text-align: right;\n",
       "    }\n",
       "</style>\n",
       "<table border=\"1\" class=\"dataframe\">\n",
       "  <thead>\n",
       "    <tr style=\"text-align: right;\">\n",
       "      <th></th>\n",
       "      <th>id</th>\n",
       "      <th>label</th>\n",
       "    </tr>\n",
       "  </thead>\n",
       "  <tbody>\n",
       "    <tr>\n",
       "      <th>201</th>\n",
       "      <td>test_0.wav</td>\n",
       "      <td>uncomfortable</td>\n",
       "    </tr>\n",
       "    <tr>\n",
       "      <th>159</th>\n",
       "      <td>test_1.wav</td>\n",
       "      <td>diaper</td>\n",
       "    </tr>\n",
       "    <tr>\n",
       "      <th>134</th>\n",
       "      <td>test_2.wav</td>\n",
       "      <td>uncomfortable</td>\n",
       "    </tr>\n",
       "    <tr>\n",
       "      <th>206</th>\n",
       "      <td>test_3.wav</td>\n",
       "      <td>uncomfortable</td>\n",
       "    </tr>\n",
       "    <tr>\n",
       "      <th>217</th>\n",
       "      <td>test_4.wav</td>\n",
       "      <td>diaper</td>\n",
       "    </tr>\n",
       "    <tr>\n",
       "      <th>...</th>\n",
       "      <td>...</td>\n",
       "      <td>...</td>\n",
       "    </tr>\n",
       "    <tr>\n",
       "      <th>87</th>\n",
       "      <td>test_223.wav</td>\n",
       "      <td>uncomfortable</td>\n",
       "    </tr>\n",
       "    <tr>\n",
       "      <th>168</th>\n",
       "      <td>test_224.wav</td>\n",
       "      <td>hug</td>\n",
       "    </tr>\n",
       "    <tr>\n",
       "      <th>15</th>\n",
       "      <td>test_225.wav</td>\n",
       "      <td>diaper</td>\n",
       "    </tr>\n",
       "    <tr>\n",
       "      <th>97</th>\n",
       "      <td>test_226.wav</td>\n",
       "      <td>diaper</td>\n",
       "    </tr>\n",
       "    <tr>\n",
       "      <th>78</th>\n",
       "      <td>test_227.wav</td>\n",
       "      <td>uncomfortable</td>\n",
       "    </tr>\n",
       "  </tbody>\n",
       "</table>\n",
       "<p>228 rows × 2 columns</p>\n",
       "</div>"
      ],
      "text/plain": [
       "               id          label\n",
       "201    test_0.wav  uncomfortable\n",
       "159    test_1.wav         diaper\n",
       "134    test_2.wav  uncomfortable\n",
       "206    test_3.wav  uncomfortable\n",
       "217    test_4.wav         diaper\n",
       "..            ...            ...\n",
       "87   test_223.wav  uncomfortable\n",
       "168  test_224.wav            hug\n",
       "15   test_225.wav         diaper\n",
       "97   test_226.wav         diaper\n",
       "78   test_227.wav  uncomfortable\n",
       "\n",
       "[228 rows x 2 columns]"
      ]
     },
     "execution_count": 20,
     "metadata": {},
     "output_type": "execute_result"
    }
   ],
   "source": [
    "final = df[['id','label']]\n",
    "final"
   ]
  },
  {
   "cell_type": "code",
   "execution_count": 21,
   "metadata": {},
   "outputs": [],
   "source": [
    "final.to_csv('Result7.csv',index=0)"
   ]
  }
 ],
 "metadata": {
  "kernelspec": {
   "display_name": "tensorflow3",
   "language": "python",
   "name": "tensorflow3"
  },
  "language_info": {
   "codemirror_mode": {
    "name": "ipython",
    "version": 3
   },
   "file_extension": ".py",
   "mimetype": "text/x-python",
   "name": "python",
   "nbconvert_exporter": "python",
   "pygments_lexer": "ipython3",
   "version": "3.6.9"
  }
 },
 "nbformat": 4,
 "nbformat_minor": 2
}
